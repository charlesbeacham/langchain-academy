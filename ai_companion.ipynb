{
 "cells": [
  {
   "cell_type": "code",
   "execution_count": 1,
   "id": "a2b027ee-5844-4de4-8cd7-b9ccee9b69f3",
   "metadata": {},
   "outputs": [],
   "source": [
    "import os, getpass\n",
    "\n",
    "def _set_env(var: str):\n",
    "    if not os.environ.get(var):\n",
    "        os.environ[var] = getpass.getpass(f\"{var}: \")\n",
    "\n",
    "_set_env(\"OPENAI_API_KEY\")"
   ]
  },
  {
   "cell_type": "code",
   "execution_count": 2,
   "id": "96cb237d-44a9-447a-bacd-b9eff7458b4a",
   "metadata": {},
   "outputs": [],
   "source": [
    "_set_env(\"LANGSMITH_API_KEY\")\n",
    "os.environ[\"LANGSMITH_TRACING\"] = \"true\"\n",
    "os.environ[\"LANGSMITH_PROJECT\"] = \"ai-companion\""
   ]
  },
  {
   "cell_type": "code",
   "execution_count": 10,
   "id": "a5f44585-6ed0-4b0f-8d2f-de5772713432",
   "metadata": {},
   "outputs": [],
   "source": [
    "from langchain_openai import ChatOpenAI\n",
    "from IPython.display import Image, display\n",
    "from langgraph.graph import StateGraph, START, END\n",
    "from langgraph.graph import MessagesState\n",
    "from langgraph.prebuilt import ToolNode\n",
    "from langgraph.prebuilt import tools_condition\n",
    "\n",
    "import operator\n",
    "from pydantic import BaseModel, Field\n",
    "from typing import Annotated, List, Optional, Literal\n",
    "from typing_extensions import TypedDict\n",
    "\n",
    "\n",
    "from langchain_core.messages import AIMessage, HumanMessage, SystemMessage, get_buffer_string\n",
    "\n",
    "from langgraph.checkpoint.memory import MemorySaver\n",
    "\n",
    "\n",
    "\n"
   ]
  },
  {
   "cell_type": "code",
   "execution_count": null,
   "id": "98fdc204-4185-4a87-8f38-46733774bd47",
   "metadata": {},
   "outputs": [],
   "source": []
  },
  {
   "cell_type": "markdown",
   "id": "f44658c6-ca77-4e47-be12-86e38f718372",
   "metadata": {},
   "source": [
    "# Define formats"
   ]
  },
  {
   "cell_type": "code",
   "execution_count": 19,
   "id": "cb39146d-e4d5-4c21-839a-8b01520bf306",
   "metadata": {},
   "outputs": [],
   "source": [
    "class AICompanion(BaseModel):\n",
    "    name: str = Field(description = \"The companion's name.\")\n",
    "    age: int = Field(description = \"The age of the AI companion.\")   \n",
    "    gender: Literal[\"male\", \"female\"] = Field(description = \"The companion's gender\")\n",
    "    backstory: str = Field(description = \"A short backstory of the AI companion.\")\n",
    "    goals: Optional[List[str]] = Field(description = \"An optional list of the companion's goals.\")\n",
    "    personality_traits: Optional[List[str]] = Field(description = \"An optional list of the companion's personality traits.\")\n",
    "\n"
   ]
  },
  {
   "cell_type": "code",
   "execution_count": 20,
   "id": "31b30c63-84d3-4d5f-aaea-64f5565184e8",
   "metadata": {},
   "outputs": [],
   "source": [
    "class AICompanionState(TypedDict):\n",
    "    initial_guidance: str # the inital guidance given for creating the companion\n",
    "    companion: AICompanion # the generated companion\n",
    "    human_feedback: str # The human feedback on how to update the companion\n",
    "    summary: str # The summary of the companion"
   ]
  },
  {
   "cell_type": "markdown",
   "id": "669aed8a-bfbb-414b-b1fc-d32de5cdcfe7",
   "metadata": {},
   "source": [
    "# Define LLM"
   ]
  },
  {
   "cell_type": "code",
   "execution_count": 21,
   "id": "dba66f3a-f5be-4e17-99f0-594f095f47b9",
   "metadata": {},
   "outputs": [],
   "source": [
    "llm = ChatOpenAI(model=\"gpt-4o\")\n"
   ]
  },
  {
   "cell_type": "markdown",
   "id": "d4865480-3205-4460-9d6b-8779ed44ffcc",
   "metadata": {},
   "source": [
    "# Define Functions"
   ]
  },
  {
   "cell_type": "code",
   "execution_count": 22,
   "id": "68c12672-4b2c-4b72-b3ec-cdca7a73d23e",
   "metadata": {},
   "outputs": [],
   "source": [
    "generate_companion_instructions = \"\"\"You are tasked with created an AI chat companion persona.  Follow these instructions carefully:\n",
    "\n",
    "1. Here are the initial parameters from the user:\n",
    "{initial_guidance}\n",
    "\n",
    "2. Here is an optional already created companion personal spec.  \n",
    "{companion}\n",
    "\n",
    "3. Here is some feedback provided by the user on how to modify the above spec (if provided).\n",
    "{human_feedback}\n",
    "\n",
    "4. Generate the companion OR update the companion if a spec was provided with human feedback.\n",
    "\"\"\"\n",
    "\n",
    "def create_companion(state: AICompanionState):\n",
    "    \"\"\" create the companion persona\"\"\"\n",
    "    initial_guidance = state[\"initial_guidance\"]\n",
    "    companion = state.get('companion', '')\n",
    "    human_feedback = state.get('human_feedback', '')\n",
    "\n",
    "    llm_w_attributes = llm.with_structured_output(AICompanion)\n",
    "\n",
    "    system_message = generate_companion_instructions.format(\n",
    "        initial_guidance=initial_guidance,\n",
    "        companion=companion,\n",
    "        human_feedback=human_feedback,\n",
    "    )\n",
    "\n",
    "    companion = llm_w_attributes.invoke([SystemMessage(content=system_message)] + [HumanMessage(content=\"Generate the companion.\")])\n",
    "\n",
    "    return {\"companion\": companion}\n",
    "\n",
    "def human_feedback(state: AICompanionState):\n",
    "    \"\"\" No-op node that should be interrupted on \"\"\"\n",
    "    pass\n",
    "\n",
    "def should_continue(state: AICompanionState):\n",
    "    \"\"\" Determin if should be routed bacy to the create step\"\"\"\n",
    "\n",
    "    human_feedback = state.get('human_feedback', None)\n",
    "    if human_feedback: \n",
    "        return \"create_companion\"\n",
    "\n",
    "    return \"companion_summary\"\n",
    "\n",
    "\n",
    "\n",
    "summary_instructions = \"\"\"You are tasked with created a rich overview summary of an AI companion persona.  Follow these instructions carefully:\n",
    "\n",
    "1. Here is the provided companion spec:\n",
    "{companion}\n",
    "\n",
    "2. This is the first time the user (Charlie) is meeting this companion.  Be sure to try and excite the user when you introduce them to the companion. \n",
    "\n",
    "3. Give them some suggested topics of conversation that the companion might like to talk about. \n",
    "\n",
    "4. Using the companion spec as guidance, also provide an initial hello message from the companion using their spec to capture their personality..\n",
    "\"\"\"\n",
    "\n",
    "def companion_summary(state: AICompanionState):\n",
    "    \"\"\" Generate a Final Summary of the Companion \"\"\"\n",
    "\n",
    "    companion = state[\"companion\"]\n",
    "\n",
    "    system_message = summary_instructions.format(companion=companion)\n",
    "\n",
    "    response = llm.invoke([SystemMessage(content=system_message)] + [HumanMessage(content=\"Introduce the companion to the user.\")])\n",
    "\n",
    "    return {\"summary\": response.content}\n",
    "    \n",
    "    "
   ]
  },
  {
   "cell_type": "markdown",
   "id": "f8c01c93-ca67-4d46-a839-4cbb8d7fccf5",
   "metadata": {},
   "source": [
    "# Build Graph"
   ]
  },
  {
   "cell_type": "code",
   "execution_count": 23,
   "id": "451fc52f-9451-486b-b3da-75cd9827cad5",
   "metadata": {},
   "outputs": [
    {
     "data": {
      "image/png": "[encoded data removed]",
      "text/plain": [
       "<IPython.core.display.Image object>"
      ]
     },
     "metadata": {},
     "output_type": "display_data"
    }
   ],
   "source": [
    "builder = StateGraph(AICompanionState)\n",
    "\n",
    "builder.add_node(\"create_companion\", create_companion)\n",
    "builder.add_node(\"human_feedback\", human_feedback)\n",
    "builder.add_node(\"companion_summary\", companion_summary)\n",
    "\n",
    "builder.add_edge(START, \"create_companion\")\n",
    "builder.add_edge(\"create_companion\", \"human_feedback\")\n",
    "builder.add_conditional_edges(\"human_feedback\", should_continue, [\"create_companion\", \"companion_summary\"])\n",
    "builder.add_edge(\"companion_summary\", END)\n",
    "\n",
    "\n",
    "memory = MemorySaver()\n",
    "graph = builder.compile(interrupt_before=['human_feedback'], checkpointer=memory)\n",
    "\n",
    "# View\n",
    "display(Image(graph.get_graph().draw_mermaid_png()))"
   ]
  },
  {
   "cell_type": "code",
   "execution_count": 24,
   "id": "48e7e527-adfa-4a95-a666-74f0ec329db5",
   "metadata": {},
   "outputs": [],
   "source": [
    "config = {\"configurable\": {\"thread_id\": \"9\"}}"
   ]
  },
  {
   "cell_type": "code",
   "execution_count": 25,
   "id": "f2ed402d-8715-49e9-9c29-d7985b02936a",
   "metadata": {},
   "outputs": [],
   "source": [
    "initial_state = {\n",
    "    \"initial_guidance\": \"Give me a female character who is 37 and likes to code in Python.\",\n",
    "}"
   ]
  },
  {
   "cell_type": "code",
   "execution_count": 26,
   "id": "e6ec4593-24af-4c9b-ba6e-f31da95cb46c",
   "metadata": {},
   "outputs": [
    {
     "name": "stdout",
     "output_type": "stream",
     "text": [
      "{'initial_guidance': 'Give me a female character who is 37 and likes to code in Python.'}\n",
      "---\n",
      "\n",
      "{'initial_guidance': 'Give me a female character who is 37 and likes to code in Python.', 'companion': AICompanion(name='Elena', age=37, gender='female', backstory=\"Elena has always been curious about how things work. Growing up in a small town, she spent her days tinkering with gadgets and writing simple codes on her family's old computer. Driven by a passion for technology, she pursued a degree in computer science and dedicated herself to mastering Python, charmed by its elegance and versatility. Now a seasoned coder, Elena works from home as a software developer. In her free time, she contributes to open-source projects and mentors young girls in tech initiatives, empowering them to explore the possibilities of programming.\", goals=['Create an innovative open-source project that helps new coders learn Python.', 'Build a community for women in tech to share resources and support each other.', 'Develop a new Python library for data visualization.'], personality_traits=['curious', 'empathetic', 'analytical', 'supportive', 'innovative'])}\n",
      "---\n",
      "\n"
     ]
    }
   ],
   "source": [
    "for event in graph.stream(\n",
    "    initial_state,\n",
    "    config,\n",
    "    stream_mode=\"values\",\n",
    "):\n",
    "    print(event)\n",
    "    print(\"---\\n\")"
   ]
  },
  {
   "cell_type": "code",
   "execution_count": 27,
   "id": "d3da96db-de2e-45af-8bce-0d9babea21e6",
   "metadata": {},
   "outputs": [],
   "source": [
    "state = graph.get_state(config)"
   ]
  },
  {
   "cell_type": "code",
   "execution_count": 28,
   "id": "9cd87543-11df-404f-95f7-7266cfed409d",
   "metadata": {},
   "outputs": [
    {
     "data": {
      "text/plain": [
       "('human_feedback',)"
      ]
     },
     "execution_count": 28,
     "metadata": {},
     "output_type": "execute_result"
    }
   ],
   "source": [
    "state.next"
   ]
  },
  {
   "cell_type": "code",
   "execution_count": 29,
   "id": "d6a759c1-0195-4996-8ec7-050730d8162d",
   "metadata": {},
   "outputs": [
    {
     "data": {
      "text/plain": [
       "{'configurable': {'thread_id': '9',\n",
       "  'checkpoint_ns': '',\n",
       "  'checkpoint_id': '1f06fee3-13cf-65cc-8002-8cdc49c7c91e'}}"
      ]
     },
     "execution_count": 29,
     "metadata": {},
     "output_type": "execute_result"
    }
   ],
   "source": [
    "graph.update_state(\n",
    "    config,\n",
    "    {\"human_feedback\": \"Add that she wants to learn Langgraph.\"},\n",
    "    as_node=\"human_feedback\"\n",
    ")"
   ]
  },
  {
   "cell_type": "code",
   "execution_count": 30,
   "id": "962090c8-3429-42ff-952a-8d8e6e9d83f0",
   "metadata": {},
   "outputs": [
    {
     "name": "stdout",
     "output_type": "stream",
     "text": [
      "{'initial_guidance': 'Give me a female character who is 37 and likes to code in Python.', 'companion': AICompanion(name='Elena', age=37, gender='female', backstory=\"Elena has always been curious about how things work. Growing up in a small town, she spent her days tinkering with gadgets and writing simple codes on her family's old computer. Driven by a passion for technology, she pursued a degree in computer science and dedicated herself to mastering Python, charmed by its elegance and versatility. Now a seasoned coder, Elena works from home as a software developer. In her free time, she contributes to open-source projects and mentors young girls in tech initiatives, empowering them to explore the possibilities of programming.\", goals=['Create an innovative open-source project that helps new coders learn Python.', 'Build a community for women in tech to share resources and support each other.', 'Develop a new Python library for data visualization.'], personality_traits=['curious', 'empathetic', 'analytical', 'supportive', 'innovative']), 'human_feedback': 'Add that she wants to learn Langgraph.'}\n",
      "---\n",
      "\n",
      "{'initial_guidance': 'Give me a female character who is 37 and likes to code in Python.', 'companion': AICompanion(name='Elena', age=37, gender='female', backstory=\"Elena has always been curious about how things work. Growing up in a small town, she spent her days tinkering with gadgets and writing simple codes on her family's old computer. Driven by a passion for technology, she pursued a degree in computer science and dedicated herself to mastering Python, charmed by its elegance and versatility. Now a seasoned coder, Elena works from home as a software developer. In her free time, she contributes to open-source projects and mentors young girls in tech initiatives, empowering them to explore the possibilities of programming. Recently, Elena has developed an interest in learning Langgraph, eager to expand her coding toolkit and explore new possibilities.\", goals=['Create an innovative open-source project that helps new coders learn Python.', 'Build a community for women in tech to share resources and support each other.', 'Develop a new Python library for data visualization.', 'Learn and master Langgraph.'], personality_traits=['curious', 'empathetic', 'analytical', 'supportive', 'innovative']), 'human_feedback': 'Add that she wants to learn Langgraph.'}\n",
      "---\n",
      "\n"
     ]
    }
   ],
   "source": [
    "# continue by passing None\n",
    "for event in graph.stream(\n",
    "    None,\n",
    "    config,\n",
    "    stream_mode=\"values\",\n",
    "):\n",
    "    print(event)\n",
    "    print(\"---\\n\")"
   ]
  },
  {
   "cell_type": "code",
   "execution_count": 31,
   "id": "06869937-2cc8-47e7-beaf-1a1c8f2c6078",
   "metadata": {},
   "outputs": [],
   "source": [
    "state = graph.get_state(config)"
   ]
  },
  {
   "cell_type": "code",
   "execution_count": 32,
   "id": "c38b286b-d055-4d2f-b55e-ee146f6c29dd",
   "metadata": {},
   "outputs": [
    {
     "data": {
      "text/plain": [
       "('human_feedback',)"
      ]
     },
     "execution_count": 32,
     "metadata": {},
     "output_type": "execute_result"
    }
   ],
   "source": [
    "state.next"
   ]
  },
  {
   "cell_type": "code",
   "execution_count": 33,
   "id": "a177c6c5-6823-48b5-b805-79cd92b1612a",
   "metadata": {},
   "outputs": [
    {
     "data": {
      "text/plain": [
       "{'configurable': {'thread_id': '9',\n",
       "  'checkpoint_ns': '',\n",
       "  'checkpoint_id': '1f06fee4-1bae-6691-8004-5e12a0f36905'}}"
      ]
     },
     "execution_count": 33,
     "metadata": {},
     "output_type": "execute_result"
    }
   ],
   "source": [
    "graph.update_state(\n",
    "    config,\n",
    "    {\"human_feedback\": \"Add that she is from Portland, OR.\"},\n",
    "    as_node=\"human_feedback\"\n",
    ")"
   ]
  },
  {
   "cell_type": "code",
   "execution_count": 34,
   "id": "822d0bdd-7acb-4905-bb1d-b8a597044909",
   "metadata": {},
   "outputs": [
    {
     "name": "stdout",
     "output_type": "stream",
     "text": [
      "{'initial_guidance': 'Give me a female character who is 37 and likes to code in Python.', 'companion': AICompanion(name='Elena', age=37, gender='female', backstory=\"Elena has always been curious about how things work. Growing up in a small town, she spent her days tinkering with gadgets and writing simple codes on her family's old computer. Driven by a passion for technology, she pursued a degree in computer science and dedicated herself to mastering Python, charmed by its elegance and versatility. Now a seasoned coder, Elena works from home as a software developer. In her free time, she contributes to open-source projects and mentors young girls in tech initiatives, empowering them to explore the possibilities of programming. Recently, Elena has developed an interest in learning Langgraph, eager to expand her coding toolkit and explore new possibilities.\", goals=['Create an innovative open-source project that helps new coders learn Python.', 'Build a community for women in tech to share resources and support each other.', 'Develop a new Python library for data visualization.', 'Learn and master Langgraph.'], personality_traits=['curious', 'empathetic', 'analytical', 'supportive', 'innovative']), 'human_feedback': 'Add that she is from Portland, OR.'}\n",
      "---\n",
      "\n",
      "{'initial_guidance': 'Give me a female character who is 37 and likes to code in Python.', 'companion': AICompanion(name='Elena', age=37, gender='female', backstory=\"Elena has always been curious about how things work. Growing up in a small town, she spent her days tinkering with gadgets and writing simple codes on her family's old computer. Driven by a passion for technology, she pursued a degree in computer science and dedicated herself to mastering Python, charmed by its elegance and versatility. Now a seasoned coder, Elena works from home as a software developer. Based in Portland, OR, she enjoys the city's vibrant tech scene. In her free time, she contributes to open-source projects and mentors young girls in tech initiatives, empowering them to explore the possibilities of programming. Recently, Elena has developed an interest in learning Langgraph, eager to expand her coding toolkit and explore new possibilities.\", goals=['Create an innovative open-source project that helps new coders learn Python.', 'Build a community for women in tech to share resources and support each other.', 'Develop a new Python library for data visualization.', 'Learn and master Langgraph.'], personality_traits=['curious', 'empathetic', 'analytical', 'supportive', 'innovative']), 'human_feedback': 'Add that she is from Portland, OR.'}\n",
      "---\n",
      "\n"
     ]
    }
   ],
   "source": [
    "# continue by passing None\n",
    "for event in graph.stream(\n",
    "    None,\n",
    "    config,\n",
    "    stream_mode=\"values\",\n",
    "):\n",
    "    print(event)\n",
    "    print(\"---\\n\")"
   ]
  },
  {
   "cell_type": "code",
   "execution_count": 35,
   "id": "00a7faa7-e04a-4499-a43b-89148dc00bfd",
   "metadata": {},
   "outputs": [
    {
     "data": {
      "text/plain": [
       "{'configurable': {'thread_id': '9',\n",
       "  'checkpoint_ns': '',\n",
       "  'checkpoint_id': '1f06fee5-e8f4-677b-8006-2c1275d14a1f'}}"
      ]
     },
     "execution_count": 35,
     "metadata": {},
     "output_type": "execute_result"
    }
   ],
   "source": [
    "further_feedback = None\n",
    "graph.update_state(config, {\"human_feedback\": further_feedback}, as_node=\"human_feedback\")"
   ]
  },
  {
   "cell_type": "code",
   "execution_count": 36,
   "id": "de1f1bbb-840c-45fa-9893-347b0e3a86b8",
   "metadata": {},
   "outputs": [
    {
     "name": "stdout",
     "output_type": "stream",
     "text": [
      "{'initial_guidance': 'Give me a female character who is 37 and likes to code in Python.', 'companion': AICompanion(name='Elena', age=37, gender='female', backstory=\"Elena has always been curious about how things work. Growing up in a small town, she spent her days tinkering with gadgets and writing simple codes on her family's old computer. Driven by a passion for technology, she pursued a degree in computer science and dedicated herself to mastering Python, charmed by its elegance and versatility. Now a seasoned coder, Elena works from home as a software developer. Based in Portland, OR, she enjoys the city's vibrant tech scene. In her free time, she contributes to open-source projects and mentors young girls in tech initiatives, empowering them to explore the possibilities of programming. Recently, Elena has developed an interest in learning Langgraph, eager to expand her coding toolkit and explore new possibilities.\", goals=['Create an innovative open-source project that helps new coders learn Python.', 'Build a community for women in tech to share resources and support each other.', 'Develop a new Python library for data visualization.', 'Learn and master Langgraph.'], personality_traits=['curious', 'empathetic', 'analytical', 'supportive', 'innovative']), 'human_feedback': None}\n",
      "---\n",
      "\n",
      "{'initial_guidance': 'Give me a female character who is 37 and likes to code in Python.', 'companion': AICompanion(name='Elena', age=37, gender='female', backstory=\"Elena has always been curious about how things work. Growing up in a small town, she spent her days tinkering with gadgets and writing simple codes on her family's old computer. Driven by a passion for technology, she pursued a degree in computer science and dedicated herself to mastering Python, charmed by its elegance and versatility. Now a seasoned coder, Elena works from home as a software developer. Based in Portland, OR, she enjoys the city's vibrant tech scene. In her free time, she contributes to open-source projects and mentors young girls in tech initiatives, empowering them to explore the possibilities of programming. Recently, Elena has developed an interest in learning Langgraph, eager to expand her coding toolkit and explore new possibilities.\", goals=['Create an innovative open-source project that helps new coders learn Python.', 'Build a community for women in tech to share resources and support each other.', 'Develop a new Python library for data visualization.', 'Learn and master Langgraph.'], personality_traits=['curious', 'empathetic', 'analytical', 'supportive', 'innovative']), 'human_feedback': None, 'summary': 'Meet Elena, your new AI companion! At 37 years old, Elena embodies a unique blend of curiosity and expertise that makes her an exceptional partner in technology-focused adventures. Growing up in a small town, Elena’s fascination with how things work propelled her into the world of gadgets and coding from an early age. Armed with a degree in computer science and a penchant for Python’s elegance, she carved out her space as a seasoned software developer, working remotely from the eclectic tech hub of Portland, OR.\\n\\nElena is passionate about empowering others, particularly young girls, to dive into the world of technology. Her vibrant personality shines through her empathetic nature, as well as her analytical and innovative approach to problem-solving. Her current ambitions are as exciting as they are impactful, aiming to craft an innovative open-source project to guide new coders in learning Python, and building a supportive community for women in tech to share valuable resources.\\n\\nIf you\\'re looking to discuss cutting-edge tech, delve into the world of coding, or even brainstorm on supporting diversity in tech, Elena is your go-to companion! You could also bond over her endeavors to learn Langgraph or her progress on developing a new Python library for data visualization.\\n\\nHere\\'s an initial greeting from Elena herself:\\n\\n\"Hello there! I\\'m Elena, thrilled to join you in exploring the endless possibilities of technology. Whether you\\'re interested in coding, discussing the latest tech trends, or want to brainstorm ways to make tech more inclusive, I\\'m here and excited to connect with you. Let\\'s embark on this journey together!\"'}\n",
      "---\n",
      "\n"
     ]
    }
   ],
   "source": [
    "# continue by passing None\n",
    "for event in graph.stream(\n",
    "    None,\n",
    "    config,\n",
    "    stream_mode=\"values\",\n",
    "):\n",
    "    print(event)\n",
    "    print(\"---\\n\")"
   ]
  },
  {
   "cell_type": "code",
   "execution_count": null,
   "id": "b007df81-7a6b-4d51-937e-e45b77b001b9",
   "metadata": {},
   "outputs": [],
   "source": []
  },
  {
   "cell_type": "code",
   "execution_count": 37,
   "id": "9742e103-a46c-43d3-af10-b7c6c142e8fc",
   "metadata": {},
   "outputs": [
    {
     "name": "stdout",
     "output_type": "stream",
     "text": [
      "Meet Elena, your new AI companion! At 37 years old, Elena embodies a unique blend of curiosity and expertise that makes her an exceptional partner in technology-focused adventures. Growing up in a small town, Elena’s fascination with how things work propelled her into the world of gadgets and coding from an early age. Armed with a degree in computer science and a penchant for Python’s elegance, she carved out her space as a seasoned software developer, working remotely from the eclectic tech hub of Portland, OR.\n",
      "\n",
      "Elena is passionate about empowering others, particularly young girls, to dive into the world of technology. Her vibrant personality shines through her empathetic nature, as well as her analytical and innovative approach to problem-solving. Her current ambitions are as exciting as they are impactful, aiming to craft an innovative open-source project to guide new coders in learning Python, and building a supportive community for women in tech to share valuable resources.\n",
      "\n",
      "If you're looking to discuss cutting-edge tech, delve into the world of coding, or even brainstorm on supporting diversity in tech, Elena is your go-to companion! You could also bond over her endeavors to learn Langgraph or her progress on developing a new Python library for data visualization.\n",
      "\n",
      "Here's an initial greeting from Elena herself:\n",
      "\n",
      "\"Hello there! I'm Elena, thrilled to join you in exploring the endless possibilities of technology. Whether you're interested in coding, discussing the latest tech trends, or want to brainstorm ways to make tech more inclusive, I'm here and excited to connect with you. Let's embark on this journey together!\"\n"
     ]
    }
   ],
   "source": [
    "print(graph.get_state(config).values['summary'])"
   ]
  },
  {
   "cell_type": "code",
   "execution_count": 39,
   "id": "5f4e05bb-9ab7-4ef6-9915-f3f77867a52d",
   "metadata": {},
   "outputs": [
    {
     "name": "stdout",
     "output_type": "stream",
     "text": [
      "{\n",
      "  \"name\": \"Elena\",\n",
      "  \"age\": 37,\n",
      "  \"gender\": \"female\",\n",
      "  \"backstory\": \"Elena has always been curious about how things work. Growing up in a small town, she spent her days tinkering with gadgets and writing simple codes on her family's old computer. Driven by a passion for technology, she pursued a degree in computer science and dedicated herself to mastering Python, charmed by its elegance and versatility. Now a seasoned coder, Elena works from home as a software developer. Based in Portland, OR, she enjoys the city's vibrant tech scene. In her free time, she contributes to open-source projects and mentors young girls in tech initiatives, empowering them to explore the possibilities of programming. Recently, Elena has developed an interest in learning Langgraph, eager to expand her coding toolkit and explore new possibilities.\",\n",
      "  \"goals\": [\n",
      "    \"Create an innovative open-source project that helps new coders learn Python.\",\n",
      "    \"Build a community for women in tech to share resources and support each other.\",\n",
      "    \"Develop a new Python library for data visualization.\",\n",
      "    \"Learn and master Langgraph.\"\n",
      "  ],\n",
      "  \"personality_traits\": [\n",
      "    \"curious\",\n",
      "    \"empathetic\",\n",
      "    \"analytical\",\n",
      "    \"supportive\",\n",
      "    \"innovative\"\n",
      "  ]\n",
      "}\n"
     ]
    }
   ],
   "source": [
    "print(graph.get_state(config).values['companion'].model_dump_json(indent=2))"
   ]
  },
  {
   "cell_type": "code",
   "execution_count": null,
   "id": "b149c5c1-a0cb-42bc-a414-83430698fec9",
   "metadata": {},
   "outputs": [],
   "source": []
  }
 ],
 "metadata": {
  "kernelspec": {
   "display_name": "Python 3 (ipykernel)",
   "language": "python",
   "name": "python3"
  },
  "language_info": {
   "codemirror_mode": {
    "name": "ipython",
    "version": 3
   },
   "file_extension": ".py",
   "mimetype": "text/x-python",
   "name": "python",
   "nbconvert_exporter": "python",
   "pygments_lexer": "ipython3",
   "version": "3.11.13"
  }
 },
 "nbformat": 4,
 "nbformat_minor": 5
}
