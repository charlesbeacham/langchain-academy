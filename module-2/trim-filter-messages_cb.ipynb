{
 "cells": [
  {
   "cell_type": "markdown",
   "id": "fb0ebaf1",
   "metadata": {},
   "source": [
    "[![Open in Colab](https://colab.research.google.com/assets/colab-badge.svg)](https://colab.research.google.com/github/langchain-ai/langchain-academy/blob/main/module-2/trim-filter-messages.ipynb) [![Open in LangChain Academy](https://cdn.prod.website-files.com/65b8cd72835ceeacd4449a53/66e9eba12c7b7688aa3dbb5e_LCA-badge-green.svg)](https://academy.langchain.com/courses/take/intro-to-langgraph/lessons/58239435-lesson-4-trim-and-filter-messages)"
   ]
  },
  {
   "cell_type": "markdown",
   "id": "c52ea2f9-03ff-4647-b782-46867ebed04e",
   "metadata": {},
   "source": [
    "# Filtering and trimming messages\n",
    "\n",
    "## Review\n",
    "\n",
    "Now, we have a deeper understanding of a few things: \n",
    "\n",
    "* How to customize the graph state schema\n",
    "* How to define custom state reducers\n",
    "* How to use multiple graph state schemas\n",
    "\n",
    "## Goals\n",
    "\n",
    "Now, we can start using these concepts with models in LangGraph!\n",
    " \n",
    "In the next few sessions, we'll build towards a chatbot that has long-term memory.\n",
    "\n",
    "Because our chatbot will use messages, let's first talk a bit more about advanced ways to work with messages in graph state."
   ]
  },
  {
   "cell_type": "code",
   "execution_count": null,
   "id": "d5197aba-5d46-421b-ae3b-4e3034edcfda",
   "metadata": {},
   "outputs": [],
   "source": []
  },
  {
   "cell_type": "code",
   "execution_count": 1,
   "id": "768dc606-d5f2-468d-96ea-910b264e0f8a",
   "metadata": {},
   "outputs": [],
   "source": [
    "import os, getpass\n",
    "\n",
    "def _set_env(var: str):\n",
    "    if not os.environ.get(var):\n",
    "        os.environ[var] = getpass.getpass(f\"{var}: \")\n",
    "\n",
    "_set_env(\"OPENAI_API_KEY\")"
   ]
  },
  {
   "cell_type": "markdown",
   "id": "8b64d8d3-e4ac-4961-bdc0-688825eb5864",
   "metadata": {},
   "source": [
    "We'll use [LangSmith](https://docs.smith.langchain.com/) for [tracing](https://docs.smith.langchain.com/concepts/tracing).\n",
    "\n",
    "We'll log to a project, `langchain-academy`. "
   ]
  },
  {
   "cell_type": "code",
   "execution_count": 2,
   "id": "dd020c79",
   "metadata": {},
   "outputs": [],
   "source": [
    "_set_env(\"LANGSMITH_API_KEY\")\n",
    "os.environ[\"LANGSMITH_TRACING\"] = \"true\"\n",
    "os.environ[\"LANGSMITH_PROJECT\"] = \"langchain-academy\""
   ]
  },
  {
   "cell_type": "markdown",
   "id": "72f3fc90-58b6-4f7f-897e-dddf6ae532c7",
   "metadata": {},
   "source": [
    "## Messages as state\n",
    "\n",
    "First, let's define some messages."
   ]
  },
  {
   "cell_type": "code",
   "execution_count": 4,
   "id": "cf11a463-e27a-4a05-b41d-64882e38edca",
   "metadata": {},
   "outputs": [
    {
     "name": "stdout",
     "output_type": "stream",
     "text": [
      "==================================\u001b[1m Ai Message \u001b[0m==================================\n",
      "Name: Bot\n",
      "\n",
      "So you said you were researching ocean mammals?\n",
      "================================\u001b[1m Human Message \u001b[0m=================================\n",
      "Name: Charlie\n",
      "\n",
      "Yes, I know about whales. But what others should I learn about?\n"
     ]
    }
   ],
   "source": [
    "from pprint import pprint\n",
    "from langchain_core.messages import AIMessage, HumanMessage\n",
    "messages = [AIMessage(f\"So you said you were researching ocean mammals?\", name=\"Bot\")]\n",
    "messages.append(HumanMessage(f\"Yes, I know about whales. But what others should I learn about?\", name=\"Charlie\"))\n",
    "\n",
    "for m in messages:\n",
    "    m.pretty_print()"
   ]
  },
  {
   "cell_type": "markdown",
   "id": "b814adcb-6bf9-4b75-be11-e59f933fbd0c",
   "metadata": {},
   "source": [
    "Recall we can pass them to a chat model."
   ]
  },
  {
   "cell_type": "code",
   "execution_count": 5,
   "id": "4712e288-e622-48a2-ad3f-a52f65f3ab08",
   "metadata": {},
   "outputs": [
    {
     "data": {
      "text/plain": [
       "AIMessage(content='Aside from whales, there are several other fascinating ocean mammals you might be interested in learning about:\\n\\n1. **Dolphins**: Highly intelligent and social creatures known for their playful behavior and complex communication. There are many species, including the bottlenose dolphin.\\n\\n2. **Porpoises**: Similar to dolphins but generally smaller and with different facial structures and teeth.\\n\\n3. **Seals**: Marine mammals with distinctive flippers and adaptations for both land and sea. Common species include the harbor seal and the gray seal.\\n\\n4. **Sea Lions**: Known for their external ear flaps and their ability to \"walk\" on land by rotating their hind flippers forward.\\n\\n5. **Walruses**: Recognizable by their long tusks, large bodies, and whiskers. They primarily inhabit Arctic regions.\\n\\n6. **Manatees and Dugongs**: Often referred to as \"sea cows,\" these gentle herbivores are found in warmer waters and are known for their slow movement.\\n\\n7. **Sea Otters**: Small marine mammals that are excellent swimmers and use tools to open shellfish. They are crucial for maintaining kelp forest ecosystems.\\n\\n8. **Narwhals**: Known as the \"unicorns of the sea,\" these Arctic whales are famous for their long, spiral tusks.\\n\\n9. **Polar Bears**: Though not entirely aquatic, they are marine mammals in the sense that they spend much of their life on sea ice and depend on the ocean for hunting seals.\\n\\nEach of these mammals has unique adaptations and roles in their ecosystems, making them interesting subjects for study!', additional_kwargs={'refusal': None}, response_metadata={'token_usage': {'completion_tokens': 327, 'prompt_tokens': 39, 'total_tokens': 366, 'completion_tokens_details': {'accepted_prediction_tokens': 0, 'audio_tokens': 0, 'reasoning_tokens': 0, 'rejected_prediction_tokens': 0}, 'prompt_tokens_details': {'audio_tokens': 0, 'cached_tokens': 0}}, 'model_name': 'gpt-4o-2024-08-06', 'system_fingerprint': 'fp_a288987b44', 'id': 'chatcmpl-BciYVe3dscjFJszrf3Wysb3b3QAly', 'service_tier': 'default', 'finish_reason': 'stop', 'logprobs': None}, id='run--b6e7e52e-a9bc-4b56-b703-13a5b2d42040-0', usage_metadata={'input_tokens': 39, 'output_tokens': 327, 'total_tokens': 366, 'input_token_details': {'audio': 0, 'cache_read': 0}, 'output_token_details': {'audio': 0, 'reasoning': 0}})"
      ]
     },
     "execution_count": 5,
     "metadata": {},
     "output_type": "execute_result"
    }
   ],
   "source": [
    "from langchain_openai import ChatOpenAI\n",
    "llm = ChatOpenAI(model=\"gpt-4o\")\n",
    "llm.invoke(messages)"
   ]
  },
  {
   "cell_type": "markdown",
   "id": "fbd1dab8-0af8-4621-8264-ce65065f76ec",
   "metadata": {},
   "source": [
    "We can run our chat model in a simple graph with `MessagesState`."
   ]
  },
  {
   "cell_type": "code",
   "execution_count": 6,
   "id": "bbd8c39c-633b-4176-9cc6-8318e42bb5dd",
   "metadata": {},
   "outputs": [
    {
     "data": {
      "image/png": "[encoded data removed]",
      "text/plain": [
       "<IPython.core.display.Image object>"
      ]
     },
     "metadata": {},
     "output_type": "display_data"
    }
   ],
   "source": [
    "from IPython.display import Image, display\n",
    "from langgraph.graph import MessagesState\n",
    "from langgraph.graph import StateGraph, START, END\n",
    "\n",
    "def chat_model_node(state: MessagesState):\n",
    "    return {\"messages\": llm.invoke(state[\"messages\"])}\n",
    "\n",
    "builder = StateGraph(MessagesState)\n",
    "builder.add_node(\"chat_model\", chat_model_node)\n",
    "builder.add_edge(START, \"chat_model\")\n",
    "builder.add_edge(\"chat_model\", END)\n",
    "graph = builder.compile()\n",
    "\n",
    "display(Image(graph.get_graph().draw_mermaid_png()))"
   ]
  },
  {
   "cell_type": "code",
   "execution_count": 7,
   "id": "3a5a3e4a-ccfd-4d14-81f1-f0de6e11a1e4",
   "metadata": {},
   "outputs": [
    {
     "name": "stdout",
     "output_type": "stream",
     "text": [
      "==================================\u001b[1m Ai Message \u001b[0m==================================\n",
      "Name: Bot\n",
      "\n",
      "So you said you were researching ocean mammals?\n",
      "================================\u001b[1m Human Message \u001b[0m=================================\n",
      "Name: Charlie\n",
      "\n",
      "Yes, I know about whales. But what others should I learn about?\n",
      "==================================\u001b[1m Ai Message \u001b[0m==================================\n",
      "\n",
      "In addition to whales, there are several other interesting ocean mammals you might want to explore:\n",
      "\n",
      "1. **Dolphins** - Known for their intelligence and playful behavior, dolphins are highly social animals often seen in pods.\n",
      "\n",
      "2. **Porpoises** - Similar to dolphins but generally smaller and with a different body shape, porpoises are less well-known but equally fascinating.\n",
      "\n",
      "3. **Seals** - Often found in colder waters, seals are known for their unique adaptations to both land and sea environments.\n",
      "\n",
      "4. **Sea Lions** - Related to seals, sea lions are known for their noisy barking and ability to \"walk\" on land using their flippers.\n",
      "\n",
      "5. **Walruses** - Recognizable by their long tusks and whiskered faces, walruses inhabit Arctic regions and are known for their social behavior.\n",
      "\n",
      "6. **Manatees** - Sometimes called \"sea cows,\" manatees are gentle, slow-moving creatures found in warm coastal waters and rivers.\n",
      "\n",
      "7. **Dugongs** - Relatives of manatees, dugongs are found in the Indian and Pacific oceans and prefer shallow coastal areas.\n",
      "\n",
      "8. **Sea Otters** - Although technically not fully aquatic, sea otters spend much of their time in the water and are known for their use of tools to open shellfish.\n",
      "\n",
      "9. **Polar Bears** - While classified as marine mammals due to their reliance on the ocean for food, polar bears are excellent swimmers and primarily inhabit the Arctic region.\n",
      "\n",
      "10. **Narwhals** - Often called the \"unicorns of the sea,\" narwhals have a long spiral tusk and are found in Arctic waters.\n",
      "\n",
      "Each of these mammals has unique adaptations and behaviors that make them fascinating subjects of study.\n"
     ]
    }
   ],
   "source": [
    "output = graph.invoke({\"messages\": messages})\n",
    "for m in output[\"messages\"]:\n",
    "    m.pretty_print()"
   ]
  },
  {
   "cell_type": "markdown",
   "id": "34c33e63-1ef4-412d-bb10-6a1b9e5b35a7",
   "metadata": {},
   "source": [
    "## Reducer\n",
    "\n",
    "A practical challenge when working with messages is managing long-running conversations. \n",
    "\n",
    "Long-running conversations result in high token usage and latency if we are not careful, because we pass a growing list of messages to the model.\n",
    "\n",
    "We have a few ways to address this.\n",
    "\n",
    "First, recall the trick we saw using `RemoveMessage` and the `add_messages` reducer."
   ]
  },
  {
   "cell_type": "code",
   "execution_count": 12,
   "id": "222c6bc5-bb0e-4a43-80f5-c8ec38d99f3a",
   "metadata": {},
   "outputs": [
    {
     "data": {
      "image/png": "[encoded data removed]",
      "text/plain": [
       "<IPython.core.display.Image object>"
      ]
     },
     "metadata": {},
     "output_type": "display_data"
    }
   ],
   "source": [
    "from langchain_core.messages import RemoveMessage\n",
    "\n",
    "def filter_messages(state: MessagesState):\n",
    "    delete_messages = [RemoveMessage(id=m.id) for m in state[\"messages\"][:-2]]\n",
    "    return {\"messages\": delete_messages}\n",
    "\n",
    "def chat_model_node(state: MessagesState):\n",
    "    return {\"messages\": [llm.invoke(state[\"messages\"])]}\n",
    "\n",
    "# Build graph\n",
    "builder = StateGraph(MessagesState)\n",
    "builder.add_node(\"filter\", filter_messages)\n",
    "builder.add_node(\"chat_model\", chat_model_node)\n",
    "builder.add_edge(START, \"filter\")\n",
    "builder.add_edge(\"filter\", \"chat_model\")\n",
    "builder.add_edge(\"chat_model\", END)\n",
    "graph = builder.compile()\n",
    "\n",
    "# View\n",
    "display(Image(graph.get_graph().draw_mermaid_png()))"
   ]
  },
  {
   "cell_type": "code",
   "execution_count": 13,
   "id": "11b50997-2f29-4d55-afb5-8a7b07292299",
   "metadata": {},
   "outputs": [],
   "source": [
    "# Message list with a preamble\n",
    "messages = [AIMessage(\"Hi.\", name=\"Bot\", id=\"1\")]\n",
    "messages.append(HumanMessage(\"Hi.\", name=\"Lance\", id=\"2\"))\n",
    "messages.append(AIMessage(\"So you said you were researching ocean mammals?\", name=\"Bot\", id=\"3\"))\n",
    "messages.append(HumanMessage(\"Yes, I know about whales. But what others should I learn about?\", name=\"Lance\", id=\"4\"))"
   ]
  },
  {
   "cell_type": "code",
   "execution_count": 15,
   "id": "46d60afc-e1c0-4f9b-91bc-9d94b4f051f9",
   "metadata": {},
   "outputs": [
    {
     "name": "stdout",
     "output_type": "stream",
     "text": [
      "==================================\u001b[1m Ai Message \u001b[0m==================================\n",
      "Name: Bot\n",
      "\n",
      "Hi.\n",
      "================================\u001b[1m Human Message \u001b[0m=================================\n",
      "Name: Lance\n",
      "\n",
      "Hi.\n",
      "==================================\u001b[1m Ai Message \u001b[0m==================================\n",
      "Name: Bot\n",
      "\n",
      "So you said you were researching ocean mammals?\n",
      "================================\u001b[1m Human Message \u001b[0m=================================\n",
      "Name: Lance\n",
      "\n",
      "Yes, I know about whales. But what others should I learn about?\n"
     ]
    }
   ],
   "source": [
    "for m in messages:\n",
    "    m.pretty_print()"
   ]
  },
  {
   "cell_type": "code",
   "execution_count": 16,
   "id": "3c6a3a1e-7c8c-4953-9315-cd1136285eb6",
   "metadata": {},
   "outputs": [
    {
     "name": "stdout",
     "output_type": "stream",
     "text": [
      "==================================\u001b[1m Ai Message \u001b[0m==================================\n",
      "Name: Bot\n",
      "\n",
      "So you said you were researching ocean mammals?\n",
      "================================\u001b[1m Human Message \u001b[0m=================================\n",
      "Name: Lance\n",
      "\n",
      "Yes, I know about whales. But what others should I learn about?\n",
      "==================================\u001b[1m Ai Message \u001b[0m==================================\n",
      "\n",
      "Aside from whales, there are several interesting ocean mammals worth exploring:\n",
      "\n",
      "1. **Dolphins** - Highly intelligent and social creatures known for their playful behavior and complex communication systems.\n",
      "\n",
      "2. **Porpoises** - Similar to dolphins but generally smaller and different in their facial structure and tooth shape.\n",
      "\n",
      "3. **Seals** - There are many species of seals, including the harbor seal and the elephant seal. They are known for their streamlined bodies and ability to live both in water and on land.\n",
      "\n",
      "4. **Sea Lions** - Distinguished from seals by their external ear flaps and their ability to \"walk\" on land using their large flippers.\n",
      "\n",
      "5. **Walruses** - Recognizable by their large tusks, which they use for defense and to help haul themselves onto ice floes.\n",
      "\n",
      "6. **Manatees and Dugongs** - Sometimes referred to as sea cows, these gentle giants feed on underwater vegetation and are found in shallow coastal waters.\n",
      "\n",
      "7. **Otters** - Sea otters, in particular, are known for using tools to open shellfish and for their role in maintaining healthy kelp forest ecosystems.\n",
      "\n",
      "8. **Narwhals** - Known as the \"unicorns of the sea,\" these Arctic whales are famous for their long, spiral tusks.\n",
      "\n",
      "9. **Orcas (Killer Whales)** - Although they're called killer whales, they're actually the largest members of the dolphin family. They have complex social structures and are apex predators.\n",
      "\n",
      "Exploring each of these species can give you insights into their unique adaptations, behaviors, and roles in ocean ecosystems.\n"
     ]
    }
   ],
   "source": [
    "# Invoke\n",
    "output = graph.invoke({'messages': messages})\n",
    "for m in output['messages']:\n",
    "    m.pretty_print()"
   ]
  },
  {
   "cell_type": "markdown",
   "id": "f506457d-014b-4fee-a684-e5edfb4b8f0d",
   "metadata": {},
   "source": [
    "## Filtering messages\n",
    "\n",
    "If you don't need or want to modify the graph state, you can just filter the messages you pass to the chat model.\n",
    "\n",
    "For example, just pass in a filtered list: `llm.invoke(messages[-1:])` to the model."
   ]
  },
  {
   "cell_type": "code",
   "execution_count": 22,
   "id": "22d0b904-7cd6-486b-8948-105bee3d4683",
   "metadata": {},
   "outputs": [
    {
     "data": {
      "image/png": "[encoded data removed]",
      "text/plain": [
       "<IPython.core.display.Image object>"
      ]
     },
     "metadata": {},
     "output_type": "display_data"
    }
   ],
   "source": [
    "# Node\n",
    "def chat_model_node(state: MessagesState):\n",
    "    return {\"messages\": [llm.invoke(state[\"messages\"][-1:])]}\n",
    "\n",
    "# Build graph\n",
    "builder = StateGraph(MessagesState)\n",
    "builder.add_node(\"chat_model\", chat_model_node)\n",
    "builder.add_edge(START, \"chat_model\")\n",
    "builder.add_edge(\"chat_model\", END)\n",
    "graph = builder.compile()\n",
    "\n",
    "# View\n",
    "display(Image(graph.get_graph().draw_mermaid_png()))"
   ]
  },
  {
   "cell_type": "markdown",
   "id": "6f58c6fc-532f-418d-b70a-cfcb3307daf5",
   "metadata": {},
   "source": [
    "Let's take our existing list of messages, append the above LLM response, and append a follow-up question."
   ]
  },
  {
   "cell_type": "code",
   "execution_count": 26,
   "id": "16956015-1dbe-4108-89b5-4209b68b51ca",
   "metadata": {},
   "outputs": [],
   "source": [
    "messages.append(output['messages'][-1])\n",
    "messages.append(HumanMessage(f\"Tell me more about Narwhal!\", name=\"Lance\"))"
   ]
  },
  {
   "cell_type": "code",
   "execution_count": 33,
   "id": "23349705-a059-47b5-9760-d8f64e687393",
   "metadata": {},
   "outputs": [
    {
     "name": "stdout",
     "output_type": "stream",
     "text": [
      "==================================\u001b[1m Ai Message \u001b[0m==================================\n",
      "Name: Bot\n",
      "\n",
      "Hi.\n",
      "================================\u001b[1m Human Message \u001b[0m=================================\n",
      "Name: Lance\n",
      "\n",
      "Hi.\n",
      "==================================\u001b[1m Ai Message \u001b[0m==================================\n",
      "Name: Bot\n",
      "\n",
      "So you said you were researching ocean mammals?\n",
      "================================\u001b[1m Human Message \u001b[0m=================================\n",
      "Name: Lance\n",
      "\n",
      "Yes, I know about whales. But what others should I learn about?\n",
      "==================================\u001b[1m Ai Message \u001b[0m==================================\n",
      "\n",
      "Aside from whales, there are several interesting ocean mammals worth exploring:\n",
      "\n",
      "1. **Dolphins** - Highly intelligent and social creatures known for their playful behavior and complex communication systems.\n",
      "\n",
      "2. **Porpoises** - Similar to dolphins but generally smaller and different in their facial structure and tooth shape.\n",
      "\n",
      "3. **Seals** - There are many species of seals, including the harbor seal and the elephant seal. They are known for their streamlined bodies and ability to live both in water and on land.\n",
      "\n",
      "4. **Sea Lions** - Distinguished from seals by their external ear flaps and their ability to \"walk\" on land using their large flippers.\n",
      "\n",
      "5. **Walruses** - Recognizable by their large tusks, which they use for defense and to help haul themselves onto ice floes.\n",
      "\n",
      "6. **Manatees and Dugongs** - Sometimes referred to as sea cows, these gentle giants feed on underwater vegetation and are found in shallow coastal waters.\n",
      "\n",
      "7. **Otters** - Sea otters, in particular, are known for using tools to open shellfish and for their role in maintaining healthy kelp forest ecosystems.\n",
      "\n",
      "8. **Narwhals** - Known as the \"unicorns of the sea,\" these Arctic whales are famous for their long, spiral tusks.\n",
      "\n",
      "9. **Orcas (Killer Whales)** - Although they're called killer whales, they're actually the largest members of the dolphin family. They have complex social structures and are apex predators.\n",
      "\n",
      "Exploring each of these species can give you insights into their unique adaptations, behaviors, and roles in ocean ecosystems.\n",
      "================================\u001b[1m Human Message \u001b[0m=================================\n",
      "Name: Lance\n",
      "\n",
      "Tell me more about Narwhal!\n"
     ]
    }
   ],
   "source": [
    "for m in messages:\n",
    "    m.pretty_print()"
   ]
  },
  {
   "cell_type": "code",
   "execution_count": 34,
   "id": "d920edaa-f0cb-4d69-85c1-cf6cc641f4b0",
   "metadata": {},
   "outputs": [
    {
     "name": "stdout",
     "output_type": "stream",
     "text": [
      "==================================\u001b[1m Ai Message \u001b[0m==================================\n",
      "Name: Bot\n",
      "\n",
      "Hi.\n",
      "================================\u001b[1m Human Message \u001b[0m=================================\n",
      "Name: Lance\n",
      "\n",
      "Hi.\n",
      "==================================\u001b[1m Ai Message \u001b[0m==================================\n",
      "Name: Bot\n",
      "\n",
      "So you said you were researching ocean mammals?\n",
      "================================\u001b[1m Human Message \u001b[0m=================================\n",
      "Name: Lance\n",
      "\n",
      "Yes, I know about whales. But what others should I learn about?\n",
      "==================================\u001b[1m Ai Message \u001b[0m==================================\n",
      "\n",
      "Aside from whales, there are several interesting ocean mammals worth exploring:\n",
      "\n",
      "1. **Dolphins** - Highly intelligent and social creatures known for their playful behavior and complex communication systems.\n",
      "\n",
      "2. **Porpoises** - Similar to dolphins but generally smaller and different in their facial structure and tooth shape.\n",
      "\n",
      "3. **Seals** - There are many species of seals, including the harbor seal and the elephant seal. They are known for their streamlined bodies and ability to live both in water and on land.\n",
      "\n",
      "4. **Sea Lions** - Distinguished from seals by their external ear flaps and their ability to \"walk\" on land using their large flippers.\n",
      "\n",
      "5. **Walruses** - Recognizable by their large tusks, which they use for defense and to help haul themselves onto ice floes.\n",
      "\n",
      "6. **Manatees and Dugongs** - Sometimes referred to as sea cows, these gentle giants feed on underwater vegetation and are found in shallow coastal waters.\n",
      "\n",
      "7. **Otters** - Sea otters, in particular, are known for using tools to open shellfish and for their role in maintaining healthy kelp forest ecosystems.\n",
      "\n",
      "8. **Narwhals** - Known as the \"unicorns of the sea,\" these Arctic whales are famous for their long, spiral tusks.\n",
      "\n",
      "9. **Orcas (Killer Whales)** - Although they're called killer whales, they're actually the largest members of the dolphin family. They have complex social structures and are apex predators.\n",
      "\n",
      "Exploring each of these species can give you insights into their unique adaptations, behaviors, and roles in ocean ecosystems.\n",
      "================================\u001b[1m Human Message \u001b[0m=================================\n",
      "Name: Lance\n",
      "\n",
      "Tell me more about Narwhal!\n",
      "==================================\u001b[1m Ai Message \u001b[0m==================================\n",
      "\n",
      "The narwhal (Monodon monoceros) is a fascinating and unique marine mammal known for its distinctive long, spiral tusk, which resembles a unicorn's horn. This is why the narwhal is often referred to as the \"unicorn of the sea.\" Narwhals are primarily found in the cold waters of the Arctic, particularly around Greenland, Canada, and Russia.\n",
      "\n",
      "### Key Features and Characteristics:\n",
      "\n",
      "- **Tusk:** The most notable feature of the narwhal is its tusk, which is actually an elongated tooth that can grow up to 10 feet (about 3 meters) long. Typically, only males develop a prominent tusk, but some females may have smaller or less developed tusks. The tusk has sensory capabilities and is believed to play a role in mating rituals and social interactions.\n",
      "\n",
      "- **Appearance:** Narwhals have a mottled black and white pattern on their skin, which helps them blend into their icy surroundings. They lack a dorsal fin, which is thought to help them navigate through ice-covered waters.\n",
      "\n",
      "- **Size:** Adult narwhals are medium-sized whales, measuring about 13 to 18 feet (approximately 4 to 5.5 meters) in length, excluding the tusk, and weighing around 1,760 to 3,530 pounds (800 to 1,600 kilograms).\n",
      "\n",
      "- **Diet:** They primarily feed on fish, squid, and shrimp, with a particular preference for Greenland halibut. Narwhals use echolocation to locate their prey in the dark, icy waters.\n",
      "\n",
      "- **Social Structure:** Narwhals are social animals that often travel in groups, known as pods, which can range from a few individuals to several dozen. Pods are usually composed of females and their young, while males often form separate groups.\n",
      "\n",
      "- **Migration:** Narwhals are known for their seasonal migrations between coastal summer areas and deeper offshore wintering grounds, where they may dive to depths exceeding 4,900 feet (1,500 meters) in search of food.\n",
      "\n",
      "- **Conservation Status:** Narwhals are classified as \"Near Threatened\" on the International Union for Conservation of Nature (IUCN) Red List. They face threats from climate change, which affects sea ice habitats, and from human activities such as shipping, oil and gas exploration, and hunting.\n",
      "\n",
      "Narwhals hold cultural significance for indigenous peoples in the Arctic, who have historically relied on them for sustenance and materials. The tusk has also been the subject of fascination and myth throughout history, contributing to the legends of unicorns.\n"
     ]
    }
   ],
   "source": [
    "output = graph.invoke({\"messages\": messages})\n",
    "for m in output[\"messages\"]:\n",
    "    m.pretty_print()"
   ]
  },
  {
   "cell_type": "markdown",
   "id": "42e1d8d2-e297-4d78-b54c-d12b3c866745",
   "metadata": {},
   "source": [
    "The state has all of the mesages.\n",
    "\n",
    "But, let's look at the LangSmith trace to see that the model invocation only uses the last message:\n",
    "\n",
    "https://smith.langchain.com/public/75aca3ce-ef19-4b92-94be-0178c7a660d9/r"
   ]
  },
  {
   "cell_type": "markdown",
   "id": "fc40d930-3c1f-47fe-8d2a-ce174873353c",
   "metadata": {},
   "source": [
    "## Trim messages\n",
    "\n",
    "Another approach is to [trim messages](https://python.langchain.com/v0.2/docs/how_to/trim_messages/#getting-the-last-max_tokens-tokens), based upon a set number of tokens. \n",
    "\n",
    "This restricts the message history to a specified number of tokens.\n",
    "\n",
    "While filtering only returns a post-hoc subset of the messages between agents, trimming restricts the number of tokens that a chat model can use to respond.\n",
    "\n",
    "See the `trim_messages` below."
   ]
  },
  {
   "cell_type": "code",
   "execution_count": 35,
   "id": "2ff99b81-cf03-4cc2-b44f-44829a73e1fd",
   "metadata": {},
   "outputs": [
    {
     "data": {
      "image/png": "[encoded data removed]",
      "text/plain": [
       "<IPython.core.display.Image object>"
      ]
     },
     "metadata": {},
     "output_type": "display_data"
    }
   ],
   "source": [
    "from langchain_core.messages import trim_messages\n",
    "\n",
    "# Node\n",
    "def chat_model_node(state: MessagesState):\n",
    "    messages = trim_messages(\n",
    "            state[\"messages\"],\n",
    "            max_tokens=100,\n",
    "            strategy=\"last\",\n",
    "            token_counter=ChatOpenAI(model=\"gpt-4o\"),\n",
    "            allow_partial=False,\n",
    "        )\n",
    "    return {\"messages\": [llm.invoke(messages)]}\n",
    "\n",
    "# Build graph\n",
    "builder = StateGraph(MessagesState)\n",
    "builder.add_node(\"chat_model\", chat_model_node)\n",
    "builder.add_edge(START, \"chat_model\")\n",
    "builder.add_edge(\"chat_model\", END)\n",
    "graph = builder.compile()\n",
    "\n",
    "# View\n",
    "display(Image(graph.get_graph().draw_mermaid_png()))"
   ]
  },
  {
   "cell_type": "code",
   "execution_count": 36,
   "id": "24df63ac-da29-4874-b3df-7e390e97cc8a",
   "metadata": {},
   "outputs": [],
   "source": [
    "messages.append(output['messages'][-1])\n",
    "messages.append(HumanMessage(f\"Tell me where Orcas live!\", name=\"Lance\"))"
   ]
  },
  {
   "cell_type": "code",
   "execution_count": 38,
   "id": "6d9d8971-c75c-43ca-a209-eb1d07b2ead0",
   "metadata": {},
   "outputs": [
    {
     "data": {
      "text/plain": [
       "[HumanMessage(content='Tell me where Orcas live!', additional_kwargs={}, response_metadata={}, name='Lance')]"
      ]
     },
     "execution_count": 38,
     "metadata": {},
     "output_type": "execute_result"
    }
   ],
   "source": [
    "# Example of trimming messages\n",
    "trim_messages(\n",
    "            messages,\n",
    "            max_tokens=100,\n",
    "            strategy=\"last\",\n",
    "            token_counter=ChatOpenAI(model=\"gpt-4o\"),\n",
    "            allow_partial=False\n",
    "        )"
   ]
  },
  {
   "cell_type": "code",
   "execution_count": 40,
   "id": "7508225c-8d47-4da0-8b0b-87521a378a4b",
   "metadata": {},
   "outputs": [],
   "source": [
    "messages_out_trim = graph.invoke({\"messages\": messages})"
   ]
  },
  {
   "cell_type": "code",
   "execution_count": 42,
   "id": "70da9505-cd8e-46e0-a4f3-3f6f4160eba1",
   "metadata": {},
   "outputs": [
    {
     "name": "stdout",
     "output_type": "stream",
     "text": [
      "==================================\u001b[1m Ai Message \u001b[0m==================================\n",
      "Name: Bot\n",
      "\n",
      "Hi.\n",
      "================================\u001b[1m Human Message \u001b[0m=================================\n",
      "Name: Lance\n",
      "\n",
      "Hi.\n",
      "==================================\u001b[1m Ai Message \u001b[0m==================================\n",
      "Name: Bot\n",
      "\n",
      "So you said you were researching ocean mammals?\n",
      "================================\u001b[1m Human Message \u001b[0m=================================\n",
      "Name: Lance\n",
      "\n",
      "Yes, I know about whales. But what others should I learn about?\n",
      "==================================\u001b[1m Ai Message \u001b[0m==================================\n",
      "\n",
      "Aside from whales, there are several interesting ocean mammals worth exploring:\n",
      "\n",
      "1. **Dolphins** - Highly intelligent and social creatures known for their playful behavior and complex communication systems.\n",
      "\n",
      "2. **Porpoises** - Similar to dolphins but generally smaller and different in their facial structure and tooth shape.\n",
      "\n",
      "3. **Seals** - There are many species of seals, including the harbor seal and the elephant seal. They are known for their streamlined bodies and ability to live both in water and on land.\n",
      "\n",
      "4. **Sea Lions** - Distinguished from seals by their external ear flaps and their ability to \"walk\" on land using their large flippers.\n",
      "\n",
      "5. **Walruses** - Recognizable by their large tusks, which they use for defense and to help haul themselves onto ice floes.\n",
      "\n",
      "6. **Manatees and Dugongs** - Sometimes referred to as sea cows, these gentle giants feed on underwater vegetation and are found in shallow coastal waters.\n",
      "\n",
      "7. **Otters** - Sea otters, in particular, are known for using tools to open shellfish and for their role in maintaining healthy kelp forest ecosystems.\n",
      "\n",
      "8. **Narwhals** - Known as the \"unicorns of the sea,\" these Arctic whales are famous for their long, spiral tusks.\n",
      "\n",
      "9. **Orcas (Killer Whales)** - Although they're called killer whales, they're actually the largest members of the dolphin family. They have complex social structures and are apex predators.\n",
      "\n",
      "Exploring each of these species can give you insights into their unique adaptations, behaviors, and roles in ocean ecosystems.\n",
      "================================\u001b[1m Human Message \u001b[0m=================================\n",
      "Name: Lance\n",
      "\n",
      "Tell me more about Narwhal!\n",
      "==================================\u001b[1m Ai Message \u001b[0m==================================\n",
      "\n",
      "The narwhal (Monodon monoceros) is a fascinating and unique marine mammal known for its distinctive long, spiral tusk, which resembles a unicorn's horn. This is why the narwhal is often referred to as the \"unicorn of the sea.\" Narwhals are primarily found in the cold waters of the Arctic, particularly around Greenland, Canada, and Russia.\n",
      "\n",
      "### Key Features and Characteristics:\n",
      "\n",
      "- **Tusk:** The most notable feature of the narwhal is its tusk, which is actually an elongated tooth that can grow up to 10 feet (about 3 meters) long. Typically, only males develop a prominent tusk, but some females may have smaller or less developed tusks. The tusk has sensory capabilities and is believed to play a role in mating rituals and social interactions.\n",
      "\n",
      "- **Appearance:** Narwhals have a mottled black and white pattern on their skin, which helps them blend into their icy surroundings. They lack a dorsal fin, which is thought to help them navigate through ice-covered waters.\n",
      "\n",
      "- **Size:** Adult narwhals are medium-sized whales, measuring about 13 to 18 feet (approximately 4 to 5.5 meters) in length, excluding the tusk, and weighing around 1,760 to 3,530 pounds (800 to 1,600 kilograms).\n",
      "\n",
      "- **Diet:** They primarily feed on fish, squid, and shrimp, with a particular preference for Greenland halibut. Narwhals use echolocation to locate their prey in the dark, icy waters.\n",
      "\n",
      "- **Social Structure:** Narwhals are social animals that often travel in groups, known as pods, which can range from a few individuals to several dozen. Pods are usually composed of females and their young, while males often form separate groups.\n",
      "\n",
      "- **Migration:** Narwhals are known for their seasonal migrations between coastal summer areas and deeper offshore wintering grounds, where they may dive to depths exceeding 4,900 feet (1,500 meters) in search of food.\n",
      "\n",
      "- **Conservation Status:** Narwhals are classified as \"Near Threatened\" on the International Union for Conservation of Nature (IUCN) Red List. They face threats from climate change, which affects sea ice habitats, and from human activities such as shipping, oil and gas exploration, and hunting.\n",
      "\n",
      "Narwhals hold cultural significance for indigenous peoples in the Arctic, who have historically relied on them for sustenance and materials. The tusk has also been the subject of fascination and myth throughout history, contributing to the legends of unicorns.\n",
      "================================\u001b[1m Human Message \u001b[0m=================================\n",
      "Name: Lance\n",
      "\n",
      "Tell me where Orcas live!\n",
      "==================================\u001b[1m Ai Message \u001b[0m==================================\n",
      "\n",
      "Orcas, also known as killer whales, are highly adaptable and can be found in all of the world's oceans. They are most commonly found in:\n",
      "\n",
      "1. **Coastal Waters**: Orcas are frequently sighted in coastal regions, particularly in areas with abundant marine life. They thrive in these waters because they offer plentiful hunting opportunities and a variety of habitats.\n",
      "\n",
      "2. **Polar and Temperate Regions**: Orcas are often seen in polar regions, such as the Arctic and Antarctic, where they hunt for seals and other marine mammals. They are also common in the temperate waters of the North Atlantic and North Pacific.\n",
      "\n",
      "3. **Open Ocean**: While orcas prefer coastal and temperate waters, they can also be found in the open ocean, though sightings are less common. They are known to adapt to a wide range of sea surface temperatures.\n",
      "\n",
      "4. **Specific Locations**: Some notable areas where orcas are regularly seen include the waters off the coast of Norway, the Pacific Northwest (including Washington State and British Columbia), the coast of Argentina, and around New Zealand.\n",
      "\n",
      "Orca populations are often specialized with distinct hunting techniques, diets, and social structures, adapting to their specific environmental conditions.\n"
     ]
    }
   ],
   "source": [
    "for m in messages_out_trim[\"messages\"]:\n",
    "    m.pretty_print()"
   ]
  },
  {
   "cell_type": "markdown",
   "id": "38b3db67-380e-46b5-9a6a-20100ba52008",
   "metadata": {},
   "source": [
    "Let's look at the LangSmith trace to see the model invocation:\n",
    "\n",
    "https://smith.langchain.com/public/b153f7e9-f1a5-4d60-8074-f0d7ab5b42ef/r"
   ]
  }
 ],
 "metadata": {
  "kernelspec": {
   "display_name": "Python 3 (ipykernel)",
   "language": "python",
   "name": "python3"
  },
  "language_info": {
   "codemirror_mode": {
    "name": "ipython",
    "version": 3
   },
   "file_extension": ".py",
   "mimetype": "text/x-python",
   "name": "python",
   "nbconvert_exporter": "python",
   "pygments_lexer": "ipython3",
   "version": "3.11.12"
  }
 },
 "nbformat": 4,
 "nbformat_minor": 5
}
